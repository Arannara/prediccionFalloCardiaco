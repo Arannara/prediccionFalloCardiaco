{
 "cells": [
  {
   "cell_type": "code",
   "execution_count": 22,
   "id": "147c21fe-7c66-4028-ac61-b9fefda4bcc9",
   "metadata": {},
   "outputs": [],
   "source": [
    "import pandas as pd\n",
    "import numpy as np\n",
    "from sklearn.preprocessing import StandardScaler\n",
    "import joblib\n",
    "import os"
   ]
  },
  {
   "cell_type": "code",
   "execution_count": 23,
   "id": "ffcedd91-0751-4297-945a-29f265b9d08e",
   "metadata": {},
   "outputs": [
    {
     "name": "stdout",
     "output_type": "stream",
     "text": [
      "    age  anaemia  creatinine_phosphokinase  diabetes  ejection_fraction  \\\n",
      "0  75.0        0                       582         0                 20   \n",
      "1  55.0        0                      7861         0                 38   \n",
      "2  65.0        0                       146         0                 20   \n",
      "3  50.0        1                       111         0                 20   \n",
      "4  65.0        1                       160         1                 20   \n",
      "\n",
      "   high_blood_pressure  platelets  serum_creatinine  serum_sodium  sex  \\\n",
      "0                    1  265000.00               1.9           130    1   \n",
      "1                    0  263358.03               1.1           136    1   \n",
      "2                    0  162000.00               1.3           129    1   \n",
      "3                    0  210000.00               1.9           137    1   \n",
      "4                    0  327000.00               2.7           116    0   \n",
      "\n",
      "   smoking  time  DEATH_EVENT  \n",
      "0        0     4            1  \n",
      "1        0     6            1  \n",
      "2        1     7            1  \n",
      "3        0     7            1  \n",
      "4        0     8            1  \n"
     ]
    }
   ],
   "source": [
    "df = pd.read_csv('heart_failure_clinical_records_dataset.csv')\n",
    "print(df.head())"
   ]
  },
  {
   "cell_type": "code",
   "execution_count": 24,
   "id": "fc1ae9e1-5a19-4a64-80cb-598e4359ef11",
   "metadata": {},
   "outputs": [],
   "source": [
    "#Preprocesamiemto columnas numericas, se pasan a enteros y se redondean usando la funcion piso\n",
    "df['age'] = np.floor(df['age']).astype(int)\n",
    "df['creatinine_phosphokinase'] = np.floor(df['creatinine_phosphokinase']).astype(int)\n",
    "df['ejection_fraction'] = np.floor(df['ejection_fraction']).astype(int)\n",
    "df['platelets'] = np.floor(df['platelets']).astype(int)\n",
    "df['serum_sodium'] = np.floor(df['serum_sodium']).astype(int)"
   ]
  },
  {
   "cell_type": "code",
   "execution_count": 25,
   "id": "fb1b6591-496a-4b15-b4a6-9b5147a2a1e9",
   "metadata": {},
   "outputs": [],
   "source": [
    "def limpiar_columna_age(df):\n",
    "    # Convertir a numérico y manejar errores (valores no numéricos se convertirán en NaN)\n",
    "    df['age'] = pd.to_numeric(df['age'], errors='coerce')\n",
    "    # Aplicar piso a los valores válidos\n",
    "    df['age'] = np.floor(df['age'])\n",
    "    # Calcular mediana ignorando NaNs\n",
    "    mediana = int(df['age'].median())\n",
    "    # Reemplazar NaNs con la mediana\n",
    "    df['age'] = df['age'].fillna(mediana).astype(int)\n",
    "    return df"
   ]
  },
  {
   "cell_type": "code",
   "execution_count": 26,
   "id": "ae1c258b-8654-40ca-adab-02e663a45ae4",
   "metadata": {},
   "outputs": [],
   "source": [
    "def limpiar_columna_anaemia(df):\n",
    "    # Convertir a numérico, forzando errores a NaN\n",
    "    df['anaemia'] = pd.to_numeric(df['anaemia'], errors='coerce')\n",
    "    # Calcular mediana ignorando NaNs (redondeamos para asegurar 0 o 1)\n",
    "    mediana = int(df['anaemia'].median())\n",
    "    # Rellenar NaNs con la mediana\n",
    "    df['anaemia'] = df['anaemia'].fillna(mediana).astype(int)\n",
    "    return df"
   ]
  },
  {
   "cell_type": "code",
   "execution_count": 27,
   "id": "99cc602d-12f6-412e-b778-685f7ba807e6",
   "metadata": {},
   "outputs": [],
   "source": [
    "\n",
    "def limpiar_columna_creatinine(df):\n",
    "    # Convertir a valores numéricos (forzando errores a NaN)\n",
    "    df['creatinine_phosphokinase'] = pd.to_numeric(df['creatinine_phosphokinase'], errors='coerce')\n",
    "    # Aplicar función piso\n",
    "    df['creatinine_phosphokinase'] = np.floor(df['creatinine_phosphokinase'])\n",
    "    # Calcular mediana ignorando NaNs\n",
    "    mediana = int(df['creatinine_phosphokinase'].median())\n",
    "    # Rellenar NaNs con la mediana y convertir a entero\n",
    "    df['creatinine_phosphokinase'] = df['creatinine_phosphokinase'].fillna(mediana).astype(int)\n",
    "\n",
    "    return df"
   ]
  },
  {
   "cell_type": "code",
   "execution_count": 28,
   "id": "4b765b30-fe08-408d-8aec-cdb225df4c42",
   "metadata": {},
   "outputs": [],
   "source": [
    "def limpiar_columna_diabetes(df):\n",
    "    # Convertir a numérico (valores inválidos se vuelven NaN)\n",
    "    df['diabetes'] = pd.to_numeric(df['diabetes'], errors='coerce')\n",
    "    # Calcular mediana ignorando NaNs y redondear a entero (0 o 1)\n",
    "    mediana = int(df['diabetes'].median())\n",
    "    # Reemplazar NaNs con la mediana\n",
    "    df['diabetes'] = df['diabetes'].fillna(mediana).astype(int)\n",
    "\n",
    "    return df"
   ]
  },
  {
   "cell_type": "code",
   "execution_count": 29,
   "id": "0edd855b-c58e-4f1f-91c9-e612bf923660",
   "metadata": {},
   "outputs": [],
   "source": [
    "def limpiar_columna_ejection_fraction(df):\n",
    "    # Convertir a numérico; valores no válidos se vuelven NaN\n",
    "    df['ejection_fraction'] = pd.to_numeric(df['ejection_fraction'], errors='coerce')\n",
    "    # Aplicar piso a los valores válidos\n",
    "    df['ejection_fraction'] = np.floor(df['ejection_fraction'])\n",
    "    # Calcular mediana ignorando NaNs\n",
    "    mediana = int(df['ejection_fraction'].median())\n",
    "    # Rellenar NaNs con la mediana y convertir a int\n",
    "    df['ejection_fraction'] = df['ejection_fraction'].fillna(mediana).astype(int)\n",
    "    \n",
    "    return df"
   ]
  },
  {
   "cell_type": "code",
   "execution_count": 30,
   "id": "760a05d8-a522-46ee-b599-d48499e7a2e1",
   "metadata": {},
   "outputs": [],
   "source": [
    "def limpiar_columna_high_blood_pressure(df):\n",
    "    # Convertir a numérico (valores inválidos se vuelven NaN)\n",
    "    df['high_blood_pressure'] = pd.to_numeric(df['high_blood_pressure'], errors='coerce')\n",
    "    # Calcular la mediana (debería ser 0 o 1)\n",
    "    mediana = int(df['high_blood_pressure'].median())\n",
    "    # Rellenar NaNs con la mediana y convertir a enteros\n",
    "    df['high_blood_pressure'] = df['high_blood_pressure'].fillna(mediana).astype(int)\n",
    "\n",
    "    return df"
   ]
  },
  {
   "cell_type": "code",
   "execution_count": 31,
   "id": "6e144cb1-9963-4640-b4ed-39d918d7b137",
   "metadata": {},
   "outputs": [],
   "source": [
    "def limpiar_columna_platelets(df):\n",
    "    # Convertir a numérico (valores inválidos se vuelven NaN)\n",
    "    df['platelets'] = pd.to_numeric(df['platelets'], errors='coerce')\n",
    "    # Aplicar piso\n",
    "    df['platelets'] = np.floor(df['platelets'])\n",
    "    # Calcular la mediana (ignorando NaNs) y convertir a int\n",
    "    mediana = int(df['platelets'].median())\n",
    "    # Rellenar NaNs con la mediana y convertir a enteros\n",
    "    df['platelets'] = df['platelets'].fillna(mediana).astype(int)\n",
    "    \n",
    "    return df"
   ]
  },
  {
   "cell_type": "code",
   "execution_count": 32,
   "id": "83e6a6e8-1be9-43fb-be6a-b812d077f6d1",
   "metadata": {},
   "outputs": [],
   "source": [
    "def limpiar_columna_serum_creatinine(df):\n",
    "    # Convertir a numérico; valores inválidos se vuelven NaN\n",
    "    df['serum_creatinine'] = pd.to_numeric(df['serum_creatinine'], errors='coerce')\n",
    "    # Aplicar piso a los valores válidos\n",
    "    df['serum_creatinine'] = np.floor(df['serum_creatinine'])\n",
    "    # Calcular mediana ignorando NaNs\n",
    "    mediana = int(df['serum_creatinine'].median())\n",
    "    # Rellenar NaNs con la mediana y convertir a int\n",
    "    df['serum_creatinine'] = df['serum_creatinine'].fillna(mediana).astype(int)\n",
    "    return df"
   ]
  },
  {
   "cell_type": "code",
   "execution_count": 33,
   "id": "5535a345-8647-4257-b504-a712f0cf0ceb",
   "metadata": {},
   "outputs": [],
   "source": [
    "def limpiar_columna_serum_sodium(df):\n",
    "    # Convertir a valores numéricos, forzando errores a NaN\n",
    "    df['serum_sodium'] = pd.to_numeric(df['serum_sodium'], errors='coerce')\n",
    "    # Aplicar piso a los valores válidos\n",
    "    df['serum_sodium'] = np.floor(df['serum_sodium'])\n",
    "    # Calcular la mediana ignorando NaNs y convertir a entero\n",
    "    mediana = int(df['serum_sodium'].median())\n",
    "    # Rellenar NaNs con la mediana y convertir a tipo entero\n",
    "    df['serum_sodium'] = df['serum_sodium'].fillna(mediana).astype(int)\n",
    "    \n",
    "    return df"
   ]
  },
  {
   "cell_type": "code",
   "execution_count": 34,
   "id": "fb87cd02-9002-44f6-8b94-3a1a9f47615d",
   "metadata": {},
   "outputs": [],
   "source": [
    "def limpiar_columna_sex(df):\n",
    "    # Convertir a numérico, forzando errores a NaN\n",
    "    df['sex'] = pd.to_numeric(df['sex'], errors='coerce')\n",
    "    # Calcular la mediana ignorando NaNs y asegurar que sea 0 o 1\n",
    "    mediana = int(df['sex'].median())\n",
    "    # Rellenar NaNs con la mediana y convertir a entero\n",
    "    df['sex'] = df['sex'].fillna(mediana).astype(int)\n",
    "\n",
    "    return df"
   ]
  },
  {
   "cell_type": "code",
   "execution_count": 35,
   "id": "537c5869-a054-43e2-ab63-c9a3fcd12dd6",
   "metadata": {},
   "outputs": [],
   "source": [
    "def limpiar_columna_smoking(df):\n",
    "    # Convertir a numérico (valores no válidos se vuelven NaN)\n",
    "    df['smoking'] = pd.to_numeric(df['smoking'], errors='coerce')\n",
    "    # Calcular mediana (será 0 o 1)\n",
    "    mediana = int(df['smoking'].median())\n",
    "    # Reemplazar NaNs con la mediana y convertir a enteros\n",
    "    df['smoking'] = df['smoking'].fillna(mediana).astype(int)\n",
    "    \n",
    "    return df"
   ]
  },
  {
   "cell_type": "code",
   "execution_count": 36,
   "id": "b4317800-1a76-433b-83aa-6c8a5b662262",
   "metadata": {},
   "outputs": [],
   "source": [
    "def limpiar_columna_time(df):\n",
    "    # Convertir a numérico, forzando errores a NaN\n",
    "    df['time'] = pd.to_numeric(df['time'], errors='coerce')\n",
    "    # Aplicar función piso a los valores válidos\n",
    "    df['time'] = np.floor(df['time'])\n",
    "    # Calcular la mediana ignorando NaNs\n",
    "    mediana = int(df['time'].median())\n",
    "    # Reemplazar NaNs con la mediana y convertir a entero\n",
    "    df['time'] = df['time'].fillna(mediana).astype(int)\n",
    "    return df"
   ]
  },
  {
   "cell_type": "code",
   "execution_count": 37,
   "id": "4f44a958-1cda-458e-bcd1-ef8f9cc5687f",
   "metadata": {},
   "outputs": [],
   "source": [
    "def limpiar_columna_death_event(df):\n",
    "    # Convertir a numérico (valores inválidos a NaN)\n",
    "    df['DEATH_EVENT'] = pd.to_numeric(df['DEATH_EVENT'], errors='coerce')\n",
    "    # Eliminar filas con valores nulos en DEATH_EVENT\n",
    "    df = df.dropna(subset=['DEATH_EVENT'])\n",
    "    # Convertir a enteros (ya sin NaNs)\n",
    "    df['DEATH_EVENT'] = df['DEATH_EVENT'].astype(int)\n",
    "    \n",
    "    return df"
   ]
  },
  {
   "cell_type": "code",
   "execution_count": 38,
   "id": "e7e92d4d-0b5b-4e44-92a5-16114b947586",
   "metadata": {},
   "outputs": [],
   "source": [
    "def escalar_columnas(df, columnas_a_escalar, nombre_scaler='scaler.pkl'):\n",
    "    # Obtener ruta actual\n",
    "    ruta_actual = os.getcwd()\n",
    "    ruta_scaler = os.path.join(ruta_actual, nombre_scaler)\n",
    "\n",
    "    # Inicializar y ajustar el scaler\n",
    "    scaler = StandardScaler()\n",
    "    df_scaled = df.copy()\n",
    "    df_scaled[columnas_a_escalar] = scaler.fit_transform(df_scaled[columnas_a_escalar])\n",
    "\n",
    "    # Guardar el scaler\n",
    "    joblib.dump(scaler, ruta_scaler)\n",
    "\n",
    "    print(f'Scaler guardado en: {ruta_scaler}')\n",
    "    return df_scaled"
   ]
  },
  {
   "cell_type": "code",
   "execution_count": 39,
   "id": "7f63a451-217f-4503-b8ae-3a5237422deb",
   "metadata": {},
   "outputs": [],
   "source": [
    "#LImpiar dataset\n",
    "df = limpiar_columna_age(df)\n",
    "df = limpiar_columna_anaemia(df)\n",
    "df = limpiar_columna_creatinine(df)\n",
    "df = limpiar_columna_diabetes(df)\n",
    "df = limpiar_columna_ejection_fraction(df)\n",
    "df = limpiar_columna_high_blood_pressure(df)\n",
    "df = limpiar_columna_platelets(df)\n",
    "df = limpiar_columna_serum_creatinine(df)\n",
    "df = limpiar_columna_serum_sodium(df)\n",
    "df = limpiar_columna_sex(df)\n",
    "df = limpiar_columna_smoking(df)\n",
    "df = limpiar_columna_time(df)\n",
    "df = limpiar_columna_death_event(df)"
   ]
  },
  {
   "cell_type": "code",
   "execution_count": 40,
   "id": "2f678106-54b6-44cf-b35f-4adf72c9ab4a",
   "metadata": {},
   "outputs": [],
   "source": [
    "df.to_csv('datosLimpios.csv')"
   ]
  },
  {
   "cell_type": "code",
   "execution_count": 41,
   "id": "2785058b-39ad-40dc-a9ad-4e7a1c047909",
   "metadata": {},
   "outputs": [
    {
     "name": "stdout",
     "output_type": "stream",
     "text": [
      "Scaler guardado en: /home/felipe/Documentos/CursoIA/EntregaFinal/scaler.pkl\n"
     ]
    }
   ],
   "source": [
    "# Columnas numéricas continuas\n",
    "columnas_a_escalar = [\n",
    "    'age',\n",
    "    'creatinine_phosphokinase',\n",
    "    'ejection_fraction',\n",
    "    'platelets',\n",
    "    'serum_creatinine',\n",
    "    'serum_sodium'\n",
    "]\n",
    "\n",
    "# Escalar y guardar el scaler\n",
    "df_escalado = escalar_columnas(df, columnas_a_escalar)"
   ]
  },
  {
   "cell_type": "code",
   "execution_count": 42,
   "id": "c5455c54-800d-46a4-9c85-9d39d3d1b99a",
   "metadata": {},
   "outputs": [],
   "source": [
    "df_escalado.to_csv('datosLimpiosEscalados.csv')"
   ]
  }
 ],
 "metadata": {
  "kernelspec": {
   "display_name": "myenv",
   "language": "python",
   "name": "python3"
  },
  "language_info": {
   "codemirror_mode": {
    "name": "ipython",
    "version": 3
   },
   "file_extension": ".py",
   "mimetype": "text/x-python",
   "name": "python",
   "nbconvert_exporter": "python",
   "pygments_lexer": "ipython3",
   "version": "3.11.13"
  }
 },
 "nbformat": 4,
 "nbformat_minor": 5
}
